{
 "cells": [
  {
   "cell_type": "code",
   "execution_count": 4,
   "metadata": {},
   "outputs": [
    {
     "name": "stdout",
     "output_type": "stream",
     "text": [
      "-設定檔上傳結果\n",
      "richmenu-2807a7194b3c83ba99f669ba5df0155f\n",
      "-圖片上傳結果\n",
      "None\n",
      "-設定檔上傳結果\n",
      "richmenu-35f8929947717070976a9eb1b01a93ee\n",
      "-圖片上傳結果\n",
      "None\n"
     ]
    }
   ],
   "source": [
    "'''\n",
    "迴圈讀取本地列表，\n",
    "    上傳設定檔，取得id，並將id寫入檔案中，而後上傳圖片\n",
    "\n",
    "'''\n",
    "\n",
    "import json\n",
    "from linebot import LineBotApi\n",
    "\n",
    "# 載入安全設定檔\n",
    "secretFileContentJson=json.load(open(\"./line_secret_key\",'r',encoding='utf8'))\n",
    "line_bot_api = LineBotApi(secretFileContentJson.get(\"channel_access_token\"))\n",
    "\n",
    "\n",
    "\n",
    "'''\n",
    "rich_menu的本地列表\n",
    "rich_menu_array=['  '] 放要生成id的檔案\n",
    "'''\n",
    "rich_menu_array=['關注','rich_menu_1']\n",
    "\n",
    "from linebot.models import RichMenu\n",
    "\n",
    "for rich_menu_name in rich_menu_array:\n",
    "\n",
    "    \n",
    "    # 創建菜單，取得menuId\n",
    "    lineRichMenuId = line_bot_api.create_rich_menu(rich_menu=RichMenu.new_from_json_dict(json.load(open(\"素材/\"+rich_menu_name+'/rich_menu.json','r',encoding='utf8'))))\n",
    "    print(\"-設定檔上傳結果\")\n",
    "    print(lineRichMenuId)\n",
    "\n",
    "                                           \n",
    "    # id寫入本地端                              \n",
    "    f = open(\"素材/\"+rich_menu_name+\"/rich_menu_id\", \"w\",encoding='utf8')\n",
    "    f.write(lineRichMenuId)\n",
    "    f.close()                                       \n",
    " \n",
    "\n",
    "    # 上傳照片至該id\n",
    "    set_image_response=''\n",
    "    with open(\"素材/\"+rich_menu_name+'/rich_menu.jpg', 'rb') as f:\n",
    "        set_image_response=line_bot_api.set_rich_menu_image(lineRichMenuId, 'image/jpeg', f)\n",
    "        \n",
    "    print(\"-圖片上傳結果\")                                               \n",
    "    print(set_image_response)\n",
    "                                                                 \n"
   ]
  },
  {
   "cell_type": "code",
   "execution_count": 2,
   "metadata": {},
   "outputs": [
    {
     "data": {
      "text/plain": [
       "[{\"areas\": [{\"action\": {\"text\": \"\\u8acb\\u8f38\\u516530\\u5206\\u9418\\u7684\\u80ce\\u5fc3\\u7387\\u5716\", \"type\": \"message\"}, \"bounds\": {\"height\": 830, \"width\": 1241, \"x\": 9, \"y\": 4}}, {\"action\": {\"data\": \"folder=02_\\u6587\\u7ae0\\u63a8\\u85a6\", \"text\": \"\\u7bc4\\u570d 2\", \"type\": \"postback\"}, \"bounds\": {\"height\": 813, \"width\": 1220, \"x\": 1263, \"y\": 13}}, {\"action\": {\"data\": \"folder=03_\\u6b77\\u53f2\\u8a18\\u9304\", \"text\": \"\\u8acb\\u9078\\u64c7\\u4f60\\u60f3\\u67e5\\u8a62\\u7684\\u6642\\u9593\", \"type\": \"postback\"}, \"bounds\": {\"height\": 822, \"width\": 1241, \"x\": 13, \"y\": 848}}, {\"action\": {\"text\": \"\\u8acb\\u8f38\\u5165\\u6703\\u54e1\\u8cc7\\u6599\", \"type\": \"message\"}, \"bounds\": {\"height\": 796, \"width\": 1199, \"x\": 1271, \"y\": 865}}], \"chatBarText\": \"\\u67e5\\u770b\\u66f4\\u591a\\u8cc7\\u8a0a\", \"name\": \"\\u5716\\u6587\\u9078\\u55ae 1\", \"richMenuId\": \"richmenu-67bff7ba9e48b892f6a69df9163341ec\", \"selected\": true, \"size\": {\"height\": 1686, \"width\": 2500}},\n",
       " {\"areas\": [{\"action\": {\"text\": \"\\u8acb\\u7528line\\u76f8\\u6a5f\\u62cd\\u7d0430\\u5206\\u9418\\u7684\\u80ce\\u5fc3\\u7387\\u5716\", \"type\": \"message\"}, \"bounds\": {\"height\": 830, \"width\": 1241, \"x\": 9, \"y\": 4}}, {\"action\": {\"data\": \"folder=02_\\u6587\\u7ae0\\u63a8\\u85a6\", \"text\": \"\\u63a8\\u85a6\\u76f8\\u95dc\\u6587\\u7ae0\", \"type\": \"postback\"}, \"bounds\": {\"height\": 813, \"width\": 1220, \"x\": 1263, \"y\": 13}}, {\"action\": {\"data\": \"folder=03_\\u6b77\\u53f2\\u8a18\\u9304\", \"text\": \"\\u8acb\\u9078\\u64c7\\u4f60\\u60f3\\u67e5\\u8a62\\u7684\\u6642\\u9593\", \"type\": \"postback\"}, \"bounds\": {\"height\": 822, \"width\": 1241, \"x\": 13, \"y\": 848}}, {\"action\": {\"text\": \"\\u8acb\\u8f38\\u5165\\u6703\\u54e1\\u8cc7\\u6599\", \"type\": \"message\"}, \"bounds\": {\"height\": 796, \"width\": 1199, \"x\": 1271, \"y\": 865}}], \"chatBarText\": \"\\u67e5\\u770b\\u66f4\\u591a\\u8cc7\\u8a0a\", \"name\": \"\\u5716\\u6587\\u9078\\u55ae 1\", \"richMenuId\": \"richmenu-23794a202b27687733290ce5e285b146\", \"selected\": true, \"size\": {\"height\": 1686, \"width\": 2500}},\n",
       " {\"areas\": [{\"action\": {\"text\": \"\\u8acb\\u7528line\\u76f8\\u6a5f\\u62cd\\u7d0430\\u5206\\u9418\\u7684\\u80ce\\u5fc3\\u7387\\u5716\", \"type\": \"message\"}, \"bounds\": {\"height\": 830, \"width\": 1241, \"x\": 9, \"y\": 4}}, {\"action\": {\"data\": \"02_\\u6587\\u7ae0\\u63a8\\u85a6\", \"text\": \"\\u6587\\u7ae0\", \"type\": \"postback\"}, \"bounds\": {\"height\": 813, \"width\": 1220, \"x\": 1263, \"y\": 13}}, {\"action\": {\"data\": \"folder=03_\\u6b77\\u53f2\\u8a18\\u9304\", \"text\": \"\\u8acb\\u9078\\u64c7\\u4f60\\u60f3\\u67e5\\u8a62\\u7684\\u6642\\u9593\", \"type\": \"postback\"}, \"bounds\": {\"height\": 822, \"width\": 1241, \"x\": 13, \"y\": 848}}, {\"action\": {\"text\": \"\\u8acb\\u8f38\\u5165\\u6703\\u54e1\\u8cc7\\u6599\", \"type\": \"message\"}, \"bounds\": {\"height\": 796, \"width\": 1199, \"x\": 1271, \"y\": 865}}], \"chatBarText\": \"\\u67e5\\u770b\\u66f4\\u591a\\u8cc7\\u8a0a\", \"name\": \"\\u5716\\u6587\\u9078\\u55ae 1\", \"richMenuId\": \"richmenu-cd470a0c0fdc6d87fc175d0a6604afad\", \"selected\": true, \"size\": {\"height\": 1686, \"width\": 2500}},\n",
       " {\"areas\": [{\"action\": {\"text\": \"\\u8acb\\u7528line\\u76f8\\u6a5f\\u62cd\\u7d0430\\u5206\\u9418\\u7684\\u80ce\\u5fc3\\u7387\\u5716\", \"type\": \"message\"}, \"bounds\": {\"height\": 830, \"width\": 1241, \"x\": 9, \"y\": 4}}, {\"action\": {\"data\": \"folder=02_\\u6587\\u7ae0\\u63a8\\u85a6\", \"text\": \"\\u7bc4\\u570d 2\", \"type\": \"postback\"}, \"bounds\": {\"height\": 813, \"width\": 1220, \"x\": 1263, \"y\": 13}}, {\"action\": {\"data\": \"folder=03_\\u6b77\\u53f2\\u8a18\\u9304\", \"text\": \"\\u8acb\\u9078\\u64c7\\u4f60\\u60f3\\u67e5\\u8a62\\u7684\\u6642\\u9593\", \"type\": \"postback\"}, \"bounds\": {\"height\": 822, \"width\": 1241, \"x\": 13, \"y\": 848}}, {\"action\": {\"text\": \"\\u8acb\\u8f38\\u5165\\u6703\\u54e1\\u8cc7\\u6599\", \"type\": \"message\"}, \"bounds\": {\"height\": 796, \"width\": 1199, \"x\": 1271, \"y\": 865}}], \"chatBarText\": \"\\u67e5\\u770b\\u66f4\\u591a\\u8cc7\\u8a0a\", \"name\": \"\\u5716\\u6587\\u9078\\u55ae 1\", \"richMenuId\": \"richmenu-85af39103565e09a6a05d696f2bd2842\", \"selected\": true, \"size\": {\"height\": 1686, \"width\": 2500}},\n",
       " {\"areas\": [{\"action\": {\"text\": \"\\u8acb\\u8f38\\u516530\\u5206\\u9418\\u7684\\u80ce\\u5fc3\\u7387\\u5716\", \"type\": \"message\"}, \"bounds\": {\"height\": 830, \"width\": 1241, \"x\": 9, \"y\": 4}}, {\"action\": {\"data\": \"folder=02_\\u6587\\u7ae0\\u63a8\\u85a6\", \"text\": \"\\u7bc4\\u570d 2\", \"type\": \"postback\"}, \"bounds\": {\"height\": 813, \"width\": 1220, \"x\": 1263, \"y\": 13}}, {\"action\": {\"data\": \"folder=03_\\u6b77\\u53f2\\u8a18\\u9304\", \"text\": \"\\u8acb\\u9078\\u64c7\\u4f60\\u60f3\\u67e5\\u8a62\\u7684\\u6642\\u9593\", \"type\": \"postback\"}, \"bounds\": {\"height\": 822, \"width\": 1241, \"x\": 13, \"y\": 848}}, {\"action\": {\"text\": \"\\u8acb\\u8f38\\u5165\\u6703\\u54e1\\u8cc7\\u6599\", \"type\": \"message\"}, \"bounds\": {\"height\": 796, \"width\": 1199, \"x\": 1271, \"y\": 865}}], \"chatBarText\": \"\\u67e5\\u770b\\u66f4\\u591a\\u8cc7\\u8a0a\", \"name\": \"\\u5716\\u6587\\u9078\\u55ae 1\", \"richMenuId\": \"richmenu-1ce107a61099ccd3f20c5f74316aba56\", \"selected\": true, \"size\": {\"height\": 1686, \"width\": 2500}}]"
      ]
     },
     "execution_count": 2,
     "metadata": {},
     "output_type": "execute_result"
    }
   ],
   "source": [
    "'''\n",
    "\n",
    "查詢帳號內擁有的richmenu \n",
    "\n",
    "'''\n",
    "\n",
    "from linebot import (\n",
    "    LineBotApi\n",
    ")\n",
    "\n",
    "import json\n",
    "\n",
    "secretFileContentJson=json.load(open(\"./line_secret_key\",'r',encoding='utf8'))\n",
    "line_bot_api = LineBotApi(secretFileContentJson.get(\"channel_access_token\"))\n",
    "\n",
    "line_bot_api.get_rich_menu_list()\n"
   ]
  },
  {
   "cell_type": "code",
   "execution_count": 3,
   "metadata": {},
   "outputs": [
    {
     "ename": "FileNotFoundError",
     "evalue": "[Errno 2] No such file or directory: '素材/rich_menu_0/rich_menu_id'",
     "output_type": "error",
     "traceback": [
      "\u001b[1;31m---------------------------------------------------------------------------\u001b[0m",
      "\u001b[1;31mFileNotFoundError\u001b[0m                         Traceback (most recent call last)",
      "\u001b[1;32m<ipython-input-3-c7bbf3bfd2bd>\u001b[0m in \u001b[0;36m<module>\u001b[1;34m\u001b[0m\n\u001b[0;32m     19\u001b[0m \u001b[1;33m\u001b[0m\u001b[0m\n\u001b[0;32m     20\u001b[0m     \u001b[1;31m# 讀取rich_menu_id檔案，並告知 Line 進行刪除，並在刪除後，把本地檔案內容清除\u001b[0m\u001b[1;33m\u001b[0m\u001b[1;33m\u001b[0m\u001b[1;33m\u001b[0m\u001b[0m\n\u001b[1;32m---> 21\u001b[1;33m     \u001b[1;32mwith\u001b[0m \u001b[0mopen\u001b[0m\u001b[1;33m(\u001b[0m\u001b[1;34m\"素材/\"\u001b[0m\u001b[1;33m+\u001b[0m\u001b[0mrich_menu_name\u001b[0m\u001b[1;33m+\u001b[0m\u001b[1;34m'/rich_menu_id'\u001b[0m\u001b[1;33m,\u001b[0m \u001b[1;34m'r'\u001b[0m\u001b[1;33m)\u001b[0m \u001b[1;32mas\u001b[0m \u001b[0mmyfile\u001b[0m\u001b[1;33m:\u001b[0m\u001b[1;33m\u001b[0m\u001b[1;33m\u001b[0m\u001b[0m\n\u001b[0m\u001b[0;32m     22\u001b[0m         \u001b[0mrich_menu_id\u001b[0m \u001b[1;33m=\u001b[0m \u001b[0mmyfile\u001b[0m\u001b[1;33m.\u001b[0m\u001b[0mread\u001b[0m\u001b[1;33m(\u001b[0m\u001b[1;33m)\u001b[0m\u001b[1;33m\u001b[0m\u001b[1;33m\u001b[0m\u001b[0m\n\u001b[0;32m     23\u001b[0m         \u001b[0mdeleteResult\u001b[0m \u001b[1;33m=\u001b[0m \u001b[0mline_bot_api\u001b[0m\u001b[1;33m.\u001b[0m\u001b[0mdelete_rich_menu\u001b[0m\u001b[1;33m(\u001b[0m\u001b[0mrich_menu_id\u001b[0m\u001b[1;33m)\u001b[0m\u001b[1;33m\u001b[0m\u001b[1;33m\u001b[0m\u001b[0m\n",
      "\u001b[1;31mFileNotFoundError\u001b[0m: [Errno 2] No such file or directory: '素材/rich_menu_0/rich_menu_id'"
     ]
    }
   ],
   "source": [
    "'''\n",
    "\n",
    "移除帳號內的richmenu\n",
    "\n",
    "'''\n",
    "\n",
    "from linebot import (\n",
    "    LineBotApi\n",
    ")\n",
    "\n",
    "import json\n",
    "secretFileContentJson=json.load(open(\"./line_secret_key\",'r',encoding='utf8'))\n",
    "line_bot_api = LineBotApi(secretFileContentJson.get(\"channel_access_token\"))\n",
    "\n",
    "# 設定要移除的rich_menu\n",
    "rich_menu_name_array = [\"rich_menu_0\"]\n",
    "\n",
    "for rich_menu_name in rich_menu_name_array:\n",
    "    \n",
    "    # 讀取rich_menu_id檔案，並告知 Line 進行刪除，並在刪除後，把本地檔案內容清除\n",
    "    with open(\"素材/\"+rich_menu_name+'/rich_menu_id', 'r') as myfile:\n",
    "        rich_menu_id = myfile.read()\n",
    "        deleteResult = line_bot_api.delete_rich_menu(rich_menu_id)\n",
    "        print(deleteResult)\n",
    "        \n",
    "    f = open(\"素材/\"+rich_menu_name+\"/rich_menu_id\", \"w\")\n",
    "    f.write('')\n",
    "    f.close() "
   ]
  },
  {
   "cell_type": "code",
   "execution_count": null,
   "metadata": {},
   "outputs": [],
   "source": [
    "'''\n",
    "\n",
    "解除用戶綁定\n",
    "\n",
    "'''\n",
    "\n",
    "from linebot import (\n",
    "    LineBotApi\n",
    ")\n",
    "\n",
    "import json\n",
    "\n",
    "# rich_menu_id_array = [\"rich_menu_0\"]\n",
    "\n",
    "secretFileContentJson=json.load(open(\"./line_secret_key\",'r',encoding='utf8'))\n",
    "line_bot_api = LineBotApi(secretFileContentJson.get(\"channel_access_token\"))\n",
    "\n",
    "self_user_id='Ud29c5cf085e845db7c6457677116df4d'\n",
    "line_bot_api.unlink_rich_menu_from_user(self_user_id)"
   ]
  },
  {
   "cell_type": "code",
   "execution_count": null,
   "metadata": {},
   "outputs": [],
   "source": [
    "'''\n",
    "\n",
    "綁定個人用戶進行測試\n",
    "\n",
    "'''\n",
    "\n",
    "from linebot import (\n",
    "    LineBotApi\n",
    ")\n",
    "\n",
    "import json\n",
    "\n",
    "# rich_menu_id_array = [\"rich_menu_0\"]\n",
    "\n",
    "secretFileContentJson=json.load(open(\"./line_secret_key\",'r',encoding='utf8'))\n",
    "line_bot_api = LineBotApi(secretFileContentJson.get(\"channel_access_token\"))\n",
    "\n",
    "self_user_id='Ud29c5cf085e845db7c6457677116df4d'\n",
    "rich_menu_id='richmenu-62d1b8717117640cdb9910e273452d35'\n",
    "\n",
    "line_bot_api.unlink_rich_menu_from_user(self_user_id)\n",
    "line_bot_api.link_rich_menu_to_user(self_user_id,rich_menu_id)"
   ]
  },
  {
   "cell_type": "code",
   "execution_count": null,
   "metadata": {},
   "outputs": [],
   "source": []
  }
 ],
 "metadata": {
  "kernelspec": {
   "display_name": "Python 3",
   "language": "python",
   "name": "python3"
  },
  "language_info": {
   "codemirror_mode": {
    "name": "ipython",
    "version": 3
   },
   "file_extension": ".py",
   "mimetype": "text/x-python",
   "name": "python",
   "nbconvert_exporter": "python",
   "pygments_lexer": "ipython3",
   "version": "3.7.4"
  }
 },
 "nbformat": 4,
 "nbformat_minor": 2
}
